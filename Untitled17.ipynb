{
  "nbformat": 4,
  "nbformat_minor": 0,
  "metadata": {
    "colab": {
      "name": "Untitled17.ipynb",
      "provenance": []
    },
    "kernelspec": {
      "name": "python3",
      "display_name": "Python 3"
    },
    "language_info": {
      "name": "python"
    }
  },
  "cells": [
    {
      "cell_type": "code",
      "metadata": {
        "colab": {
          "base_uri": "https://localhost:8080/"
        },
        "id": "Zbfw3TiAliUO",
        "outputId": "0d00cbdc-f6f6-4bd4-d4d1-fe9f2fc7fdbd"
      },
      "source": [
        "import time\n",
        "\n",
        "def countdown(num_of_secs):\n",
        "    while num_of_secs>1:\n",
        "        m, s = divmod(num_of_secs, 60)\n",
        "        min_sec_format = '{:02d}:{:02d}'.format(m, s)\n",
        "        print(min_sec_format, end='/r')\n",
        "        time.sleep(1)\n",
        "        num_of_secs -= 1\n",
        "        \n",
        "    print('Fire in the hole.')\n",
        "\n",
        "inp = int(input('Input number of seconds to countdown: '))\n",
        "countdown(inp)"
      ],
      "execution_count": null,
      "outputs": [
        {
          "output_type": "stream",
          "text": [
            "Input number of seconds to countdown: 60\n",
            "01:00/r00:59/r00:58/r00:57/r00:56/r00:55/r00:54/r00:53/r"
          ],
          "name": "stdout"
        }
      ]
    }
  ]
}